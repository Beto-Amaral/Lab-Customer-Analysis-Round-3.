{
  "nbformat": 4,
  "nbformat_minor": 0,
  "metadata": {
    "colab": {
      "name": "Morning_students.ipynb",
      "provenance": [],
      "toc_visible": true
    },
    "kernelspec": {
      "name": "python3",
      "display_name": "Python 3"
    }
  },
  "cells": [
    {
      "cell_type": "markdown",
      "metadata": {
        "id": "plKutILEFxWw"
      },
      "source": [
        "# Lesson 1"
      ]
    },
    {
      "cell_type": "markdown",
      "metadata": {
        "id": "K-iZQrAFF08O"
      },
      "source": [
        "## Loading libraries"
      ]
    },
    {
      "cell_type": "code",
      "metadata": {
        "id": "fSEwHk_SFujT"
      },
      "source": [
        "import pandas as pd\r\n",
        "import numpy as np\r\n",
        "pd.set_option('display.max_columns', None)\r\n",
        "import warnings\r\n",
        "warnings.filterwarnings('ignore')\r\n",
        "import matplotlib.pyplot as plt\r\n",
        "import seaborn as sns\r\n",
        "%matplotlib inline"
      ],
      "execution_count": null,
      "outputs": []
    },
    {
      "cell_type": "markdown",
      "metadata": {
        "id": "mbdezIBlGBgs"
      },
      "source": [
        "## Loading data"
      ]
    },
    {
      "cell_type": "code",
      "metadata": {
        "colab": {
          "base_uri": "https://localhost:8080/",
          "height": 196
        },
        "id": "BVNJFQamGDDA",
        "outputId": "ddfaca19-29ab-4cef-bf06-b88a5e2aecb4"
      },
      "source": [
        "data = pd.read_csv('/content/drive/MyDrive/UNIT1/DAY3/Morning/merged_clean_ver2.csv')\r\n",
        "data.head()"
      ],
      "execution_count": null,
      "outputs": [
        {
          "output_type": "execute_result",
          "data": {
            "text/html": [
              "<div>\n",
              "<style scoped>\n",
              "    .dataframe tbody tr th:only-of-type {\n",
              "        vertical-align: middle;\n",
              "    }\n",
              "\n",
              "    .dataframe tbody tr th {\n",
              "        vertical-align: top;\n",
              "    }\n",
              "\n",
              "    .dataframe thead th {\n",
              "        text-align: right;\n",
              "    }\n",
              "</style>\n",
              "<table border=\"1\" class=\"dataframe\">\n",
              "  <thead>\n",
              "    <tr style=\"text-align: right;\">\n",
              "      <th></th>\n",
              "      <th>id</th>\n",
              "      <th>state</th>\n",
              "      <th>gender</th>\n",
              "      <th>ic2</th>\n",
              "      <th>ic3</th>\n",
              "      <th>ic4</th>\n",
              "      <th>ic5</th>\n",
              "      <th>median_home_val</th>\n",
              "      <th>median_household_income</th>\n",
              "      <th>avggift</th>\n",
              "      <th>target_d</th>\n",
              "    </tr>\n",
              "  </thead>\n",
              "  <tbody>\n",
              "    <tr>\n",
              "      <th>0</th>\n",
              "      <td>44060.0</td>\n",
              "      <td>FL</td>\n",
              "      <td>Male</td>\n",
              "      <td>430.0</td>\n",
              "      <td>466</td>\n",
              "      <td>520.0</td>\n",
              "      <td>21975.0</td>\n",
              "      <td>1157.618045</td>\n",
              "      <td>392.0</td>\n",
              "      <td>28.000000</td>\n",
              "      <td>100.0</td>\n",
              "    </tr>\n",
              "    <tr>\n",
              "      <th>1</th>\n",
              "      <td>96093.0</td>\n",
              "      <td>IL</td>\n",
              "      <td>Male</td>\n",
              "      <td>415.0</td>\n",
              "      <td>410</td>\n",
              "      <td>473.0</td>\n",
              "      <td>19387.0</td>\n",
              "      <td>537.000000</td>\n",
              "      <td>365.0</td>\n",
              "      <td>5.666667</td>\n",
              "      <td>7.0</td>\n",
              "    </tr>\n",
              "    <tr>\n",
              "      <th>2</th>\n",
              "      <td>43333.0</td>\n",
              "      <td>FL</td>\n",
              "      <td>Female</td>\n",
              "      <td>340.0</td>\n",
              "      <td>361</td>\n",
              "      <td>436.0</td>\n",
              "      <td>18837.0</td>\n",
              "      <td>725.000000</td>\n",
              "      <td>301.0</td>\n",
              "      <td>4.111111</td>\n",
              "      <td>5.0</td>\n",
              "    </tr>\n",
              "    <tr>\n",
              "      <th>3</th>\n",
              "      <td>21885.0</td>\n",
              "      <td>NC</td>\n",
              "      <td>Male</td>\n",
              "      <td>407.0</td>\n",
              "      <td>399</td>\n",
              "      <td>413.0</td>\n",
              "      <td>14014.0</td>\n",
              "      <td>1157.618045</td>\n",
              "      <td>401.0</td>\n",
              "      <td>27.277778</td>\n",
              "      <td>38.0</td>\n",
              "    </tr>\n",
              "    <tr>\n",
              "      <th>4</th>\n",
              "      <td>190108.0</td>\n",
              "      <td>FL</td>\n",
              "      <td>Female</td>\n",
              "      <td>280.0</td>\n",
              "      <td>316</td>\n",
              "      <td>348.0</td>\n",
              "      <td>17991.0</td>\n",
              "      <td>995.000000</td>\n",
              "      <td>252.0</td>\n",
              "      <td>6.000000</td>\n",
              "      <td>5.0</td>\n",
              "    </tr>\n",
              "  </tbody>\n",
              "</table>\n",
              "</div>"
            ],
            "text/plain": [
              "         id state  gender    ic2  ic3    ic4      ic5  median_home_val  \\\n",
              "0   44060.0    FL    Male  430.0  466  520.0  21975.0      1157.618045   \n",
              "1   96093.0    IL    Male  415.0  410  473.0  19387.0       537.000000   \n",
              "2   43333.0    FL  Female  340.0  361  436.0  18837.0       725.000000   \n",
              "3   21885.0    NC    Male  407.0  399  413.0  14014.0      1157.618045   \n",
              "4  190108.0    FL  Female  280.0  316  348.0  17991.0       995.000000   \n",
              "\n",
              "   median_household_income    avggift  target_d  \n",
              "0                    392.0  28.000000     100.0  \n",
              "1                    365.0   5.666667       7.0  \n",
              "2                    301.0   4.111111       5.0  \n",
              "3                    401.0  27.277778      38.0  \n",
              "4                    252.0   6.000000       5.0  "
            ]
          },
          "metadata": {
            "tags": []
          },
          "execution_count": 2
        }
      ]
    },
    {
      "cell_type": "markdown",
      "metadata": {
        "id": "flQm53oRGrP-"
      },
      "source": [
        "## Getting summary statistics "
      ]
    },
    {
      "cell_type": "code",
      "metadata": {
        "colab": {
          "base_uri": "https://localhost:8080/",
          "height": 306
        },
        "id": "rYl8Xb-AGoeM",
        "outputId": "88202470-ead8-40ca-cece-1eee52f13ed8"
      },
      "source": [
        "data.describe()"
      ],
      "execution_count": null,
      "outputs": [
        {
          "output_type": "execute_result",
          "data": {
            "text/html": [
              "<div>\n",
              "<style scoped>\n",
              "    .dataframe tbody tr th:only-of-type {\n",
              "        vertical-align: middle;\n",
              "    }\n",
              "\n",
              "    .dataframe tbody tr th {\n",
              "        vertical-align: top;\n",
              "    }\n",
              "\n",
              "    .dataframe thead th {\n",
              "        text-align: right;\n",
              "    }\n",
              "</style>\n",
              "<table border=\"1\" class=\"dataframe\">\n",
              "  <thead>\n",
              "    <tr style=\"text-align: right;\">\n",
              "      <th></th>\n",
              "      <th>id</th>\n",
              "      <th>ic2</th>\n",
              "      <th>ic3</th>\n",
              "      <th>ic4</th>\n",
              "      <th>ic5</th>\n",
              "      <th>median_home_val</th>\n",
              "      <th>median_household_income</th>\n",
              "      <th>avggift</th>\n",
              "      <th>target_d</th>\n",
              "    </tr>\n",
              "  </thead>\n",
              "  <tbody>\n",
              "    <tr>\n",
              "      <th>count</th>\n",
              "      <td>1992.000000</td>\n",
              "      <td>3993.000000</td>\n",
              "      <td>3993.000000</td>\n",
              "      <td>3993.000000</td>\n",
              "      <td>3993.000000</td>\n",
              "      <td>3993.000000</td>\n",
              "      <td>1992.000000</td>\n",
              "      <td>3993.000000</td>\n",
              "      <td>3993.000000</td>\n",
              "    </tr>\n",
              "    <tr>\n",
              "      <th>mean</th>\n",
              "      <td>97250.015060</td>\n",
              "      <td>400.713248</td>\n",
              "      <td>399.876283</td>\n",
              "      <td>444.732031</td>\n",
              "      <td>16456.413724</td>\n",
              "      <td>1158.724563</td>\n",
              "      <td>350.467871</td>\n",
              "      <td>11.785117</td>\n",
              "      <td>15.665036</td>\n",
              "    </tr>\n",
              "    <tr>\n",
              "      <th>std</th>\n",
              "      <td>57725.586267</td>\n",
              "      <td>180.568500</td>\n",
              "      <td>164.822741</td>\n",
              "      <td>175.004178</td>\n",
              "      <td>9455.318118</td>\n",
              "      <td>752.180882</td>\n",
              "      <td>173.568054</td>\n",
              "      <td>10.172672</td>\n",
              "      <td>12.703041</td>\n",
              "    </tr>\n",
              "    <tr>\n",
              "      <th>min</th>\n",
              "      <td>67.000000</td>\n",
              "      <td>0.000000</td>\n",
              "      <td>0.000000</td>\n",
              "      <td>0.000000</td>\n",
              "      <td>0.000000</td>\n",
              "      <td>0.000000</td>\n",
              "      <td>0.000000</td>\n",
              "      <td>2.260870</td>\n",
              "      <td>1.000000</td>\n",
              "    </tr>\n",
              "    <tr>\n",
              "      <th>25%</th>\n",
              "      <td>44693.000000</td>\n",
              "      <td>284.000000</td>\n",
              "      <td>287.000000</td>\n",
              "      <td>325.000000</td>\n",
              "      <td>11136.000000</td>\n",
              "      <td>786.000000</td>\n",
              "      <td>236.750000</td>\n",
              "      <td>7.187500</td>\n",
              "      <td>10.000000</td>\n",
              "    </tr>\n",
              "    <tr>\n",
              "      <th>50%</th>\n",
              "      <td>98059.000000</td>\n",
              "      <td>366.000000</td>\n",
              "      <td>365.000000</td>\n",
              "      <td>410.000000</td>\n",
              "      <td>14356.000000</td>\n",
              "      <td>1157.618045</td>\n",
              "      <td>315.000000</td>\n",
              "      <td>10.000000</td>\n",
              "      <td>14.000000</td>\n",
              "    </tr>\n",
              "    <tr>\n",
              "      <th>75%</th>\n",
              "      <td>149679.000000</td>\n",
              "      <td>478.000000</td>\n",
              "      <td>480.000000</td>\n",
              "      <td>528.000000</td>\n",
              "      <td>18780.000000</td>\n",
              "      <td>1157.618045</td>\n",
              "      <td>420.000000</td>\n",
              "      <td>14.428571</td>\n",
              "      <td>20.000000</td>\n",
              "    </tr>\n",
              "    <tr>\n",
              "      <th>max</th>\n",
              "      <td>191779.000000</td>\n",
              "      <td>1500.000000</td>\n",
              "      <td>1311.000000</td>\n",
              "      <td>1331.000000</td>\n",
              "      <td>174523.000000</td>\n",
              "      <td>5980.000000</td>\n",
              "      <td>1500.000000</td>\n",
              "      <td>450.000000</td>\n",
              "      <td>200.000000</td>\n",
              "    </tr>\n",
              "  </tbody>\n",
              "</table>\n",
              "</div>"
            ],
            "text/plain": [
              "                  id          ic2          ic3          ic4            ic5  \\\n",
              "count    1992.000000  3993.000000  3993.000000  3993.000000    3993.000000   \n",
              "mean    97250.015060   400.713248   399.876283   444.732031   16456.413724   \n",
              "std     57725.586267   180.568500   164.822741   175.004178    9455.318118   \n",
              "min        67.000000     0.000000     0.000000     0.000000       0.000000   \n",
              "25%     44693.000000   284.000000   287.000000   325.000000   11136.000000   \n",
              "50%     98059.000000   366.000000   365.000000   410.000000   14356.000000   \n",
              "75%    149679.000000   478.000000   480.000000   528.000000   18780.000000   \n",
              "max    191779.000000  1500.000000  1311.000000  1331.000000  174523.000000   \n",
              "\n",
              "       median_home_val  median_household_income      avggift     target_d  \n",
              "count      3993.000000              1992.000000  3993.000000  3993.000000  \n",
              "mean       1158.724563               350.467871    11.785117    15.665036  \n",
              "std         752.180882               173.568054    10.172672    12.703041  \n",
              "min           0.000000                 0.000000     2.260870     1.000000  \n",
              "25%         786.000000               236.750000     7.187500    10.000000  \n",
              "50%        1157.618045               315.000000    10.000000    14.000000  \n",
              "75%        1157.618045               420.000000    14.428571    20.000000  \n",
              "max        5980.000000              1500.000000   450.000000   200.000000  "
            ]
          },
          "metadata": {
            "tags": []
          },
          "execution_count": 3
        }
      ]
    },
    {
      "cell_type": "markdown",
      "metadata": {
        "id": "fNjTuKPsH4L5"
      },
      "source": [
        "## Getting similar info for the `categorical` variables."
      ]
    },
    {
      "cell_type": "code",
      "metadata": {
        "colab": {
          "base_uri": "https://localhost:8080/",
          "height": 166
        },
        "id": "AC2mVOncH9c4",
        "outputId": "05221d51-0c55-4e02-9a3b-1e99f8aa2c55"
      },
      "source": [
        "data.describe(include=[np.object])"
      ],
      "execution_count": null,
      "outputs": [
        {
          "output_type": "execute_result",
          "data": {
            "text/html": [
              "<div>\n",
              "<style scoped>\n",
              "    .dataframe tbody tr th:only-of-type {\n",
              "        vertical-align: middle;\n",
              "    }\n",
              "\n",
              "    .dataframe tbody tr th {\n",
              "        vertical-align: top;\n",
              "    }\n",
              "\n",
              "    .dataframe thead th {\n",
              "        text-align: right;\n",
              "    }\n",
              "</style>\n",
              "<table border=\"1\" class=\"dataframe\">\n",
              "  <thead>\n",
              "    <tr style=\"text-align: right;\">\n",
              "      <th></th>\n",
              "      <th>state</th>\n",
              "      <th>gender</th>\n",
              "    </tr>\n",
              "  </thead>\n",
              "  <tbody>\n",
              "    <tr>\n",
              "      <th>count</th>\n",
              "      <td>3993</td>\n",
              "      <td>3993</td>\n",
              "    </tr>\n",
              "    <tr>\n",
              "      <th>unique</th>\n",
              "      <td>48</td>\n",
              "      <td>3</td>\n",
              "    </tr>\n",
              "    <tr>\n",
              "      <th>top</th>\n",
              "      <td>CA</td>\n",
              "      <td>Female</td>\n",
              "    </tr>\n",
              "    <tr>\n",
              "      <th>freq</th>\n",
              "      <td>875</td>\n",
              "      <td>2276</td>\n",
              "    </tr>\n",
              "  </tbody>\n",
              "</table>\n",
              "</div>"
            ],
            "text/plain": [
              "       state  gender\n",
              "count   3993    3993\n",
              "unique    48       3\n",
              "top       CA  Female\n",
              "freq     875    2276"
            ]
          },
          "metadata": {
            "tags": []
          },
          "execution_count": 4
        }
      ]
    },
    {
      "cell_type": "code",
      "metadata": {
        "colab": {
          "base_uri": "https://localhost:8080/",
          "height": 316
        },
        "id": "Nh07ZTdvIBzh",
        "outputId": "7d19b82f-d5fc-4e74-d46e-acc08847fb15"
      },
      "source": [
        "summary = data.describe().T\r\n",
        "summary"
      ],
      "execution_count": null,
      "outputs": [
        {
          "output_type": "execute_result",
          "data": {
            "text/html": [
              "<div>\n",
              "<style scoped>\n",
              "    .dataframe tbody tr th:only-of-type {\n",
              "        vertical-align: middle;\n",
              "    }\n",
              "\n",
              "    .dataframe tbody tr th {\n",
              "        vertical-align: top;\n",
              "    }\n",
              "\n",
              "    .dataframe thead th {\n",
              "        text-align: right;\n",
              "    }\n",
              "</style>\n",
              "<table border=\"1\" class=\"dataframe\">\n",
              "  <thead>\n",
              "    <tr style=\"text-align: right;\">\n",
              "      <th></th>\n",
              "      <th>count</th>\n",
              "      <th>mean</th>\n",
              "      <th>std</th>\n",
              "      <th>min</th>\n",
              "      <th>25%</th>\n",
              "      <th>50%</th>\n",
              "      <th>75%</th>\n",
              "      <th>max</th>\n",
              "    </tr>\n",
              "  </thead>\n",
              "  <tbody>\n",
              "    <tr>\n",
              "      <th>id</th>\n",
              "      <td>1992.0</td>\n",
              "      <td>97250.015060</td>\n",
              "      <td>57725.586267</td>\n",
              "      <td>67.00000</td>\n",
              "      <td>44693.0000</td>\n",
              "      <td>98059.000000</td>\n",
              "      <td>149679.000000</td>\n",
              "      <td>191779.0</td>\n",
              "    </tr>\n",
              "    <tr>\n",
              "      <th>ic2</th>\n",
              "      <td>3993.0</td>\n",
              "      <td>400.713248</td>\n",
              "      <td>180.568500</td>\n",
              "      <td>0.00000</td>\n",
              "      <td>284.0000</td>\n",
              "      <td>366.000000</td>\n",
              "      <td>478.000000</td>\n",
              "      <td>1500.0</td>\n",
              "    </tr>\n",
              "    <tr>\n",
              "      <th>ic3</th>\n",
              "      <td>3993.0</td>\n",
              "      <td>399.876283</td>\n",
              "      <td>164.822741</td>\n",
              "      <td>0.00000</td>\n",
              "      <td>287.0000</td>\n",
              "      <td>365.000000</td>\n",
              "      <td>480.000000</td>\n",
              "      <td>1311.0</td>\n",
              "    </tr>\n",
              "    <tr>\n",
              "      <th>ic4</th>\n",
              "      <td>3993.0</td>\n",
              "      <td>444.732031</td>\n",
              "      <td>175.004178</td>\n",
              "      <td>0.00000</td>\n",
              "      <td>325.0000</td>\n",
              "      <td>410.000000</td>\n",
              "      <td>528.000000</td>\n",
              "      <td>1331.0</td>\n",
              "    </tr>\n",
              "    <tr>\n",
              "      <th>ic5</th>\n",
              "      <td>3993.0</td>\n",
              "      <td>16456.413724</td>\n",
              "      <td>9455.318118</td>\n",
              "      <td>0.00000</td>\n",
              "      <td>11136.0000</td>\n",
              "      <td>14356.000000</td>\n",
              "      <td>18780.000000</td>\n",
              "      <td>174523.0</td>\n",
              "    </tr>\n",
              "    <tr>\n",
              "      <th>median_home_val</th>\n",
              "      <td>3993.0</td>\n",
              "      <td>1158.724563</td>\n",
              "      <td>752.180882</td>\n",
              "      <td>0.00000</td>\n",
              "      <td>786.0000</td>\n",
              "      <td>1157.618045</td>\n",
              "      <td>1157.618045</td>\n",
              "      <td>5980.0</td>\n",
              "    </tr>\n",
              "    <tr>\n",
              "      <th>median_household_income</th>\n",
              "      <td>1992.0</td>\n",
              "      <td>350.467871</td>\n",
              "      <td>173.568054</td>\n",
              "      <td>0.00000</td>\n",
              "      <td>236.7500</td>\n",
              "      <td>315.000000</td>\n",
              "      <td>420.000000</td>\n",
              "      <td>1500.0</td>\n",
              "    </tr>\n",
              "    <tr>\n",
              "      <th>avggift</th>\n",
              "      <td>3993.0</td>\n",
              "      <td>11.785117</td>\n",
              "      <td>10.172672</td>\n",
              "      <td>2.26087</td>\n",
              "      <td>7.1875</td>\n",
              "      <td>10.000000</td>\n",
              "      <td>14.428571</td>\n",
              "      <td>450.0</td>\n",
              "    </tr>\n",
              "    <tr>\n",
              "      <th>target_d</th>\n",
              "      <td>3993.0</td>\n",
              "      <td>15.665036</td>\n",
              "      <td>12.703041</td>\n",
              "      <td>1.00000</td>\n",
              "      <td>10.0000</td>\n",
              "      <td>14.000000</td>\n",
              "      <td>20.000000</td>\n",
              "      <td>200.0</td>\n",
              "    </tr>\n",
              "  </tbody>\n",
              "</table>\n",
              "</div>"
            ],
            "text/plain": [
              "                          count          mean           std       min  \\\n",
              "id                       1992.0  97250.015060  57725.586267  67.00000   \n",
              "ic2                      3993.0    400.713248    180.568500   0.00000   \n",
              "ic3                      3993.0    399.876283    164.822741   0.00000   \n",
              "ic4                      3993.0    444.732031    175.004178   0.00000   \n",
              "ic5                      3993.0  16456.413724   9455.318118   0.00000   \n",
              "median_home_val          3993.0   1158.724563    752.180882   0.00000   \n",
              "median_household_income  1992.0    350.467871    173.568054   0.00000   \n",
              "avggift                  3993.0     11.785117     10.172672   2.26087   \n",
              "target_d                 3993.0     15.665036     12.703041   1.00000   \n",
              "\n",
              "                                25%           50%            75%       max  \n",
              "id                       44693.0000  98059.000000  149679.000000  191779.0  \n",
              "ic2                        284.0000    366.000000     478.000000    1500.0  \n",
              "ic3                        287.0000    365.000000     480.000000    1311.0  \n",
              "ic4                        325.0000    410.000000     528.000000    1331.0  \n",
              "ic5                      11136.0000  14356.000000   18780.000000  174523.0  \n",
              "median_home_val            786.0000   1157.618045    1157.618045    5980.0  \n",
              "median_household_income    236.7500    315.000000     420.000000    1500.0  \n",
              "avggift                      7.1875     10.000000      14.428571     450.0  \n",
              "target_d                    10.0000     14.000000      20.000000     200.0  "
            ]
          },
          "metadata": {
            "tags": []
          },
          "execution_count": 5
        }
      ]
    },
    {
      "cell_type": "markdown",
      "metadata": {
        "id": "bQkauQ5XIdaU"
      },
      "source": [
        "## Interquartilic range "
      ]
    },
    {
      "cell_type": "code",
      "metadata": {
        "colab": {
          "base_uri": "https://localhost:8080/",
          "height": 336
        },
        "id": "XF0CBWJIIZhr",
        "outputId": "2d33563e-d7e7-4992-97c9-67619de1c637"
      },
      "source": [
        "summary['iqr'] = summary['75%']-summary['25%']\r\n",
        "summary"
      ],
      "execution_count": null,
      "outputs": [
        {
          "output_type": "execute_result",
          "data": {
            "text/html": [
              "<div>\n",
              "<style scoped>\n",
              "    .dataframe tbody tr th:only-of-type {\n",
              "        vertical-align: middle;\n",
              "    }\n",
              "\n",
              "    .dataframe tbody tr th {\n",
              "        vertical-align: top;\n",
              "    }\n",
              "\n",
              "    .dataframe thead th {\n",
              "        text-align: right;\n",
              "    }\n",
              "</style>\n",
              "<table border=\"1\" class=\"dataframe\">\n",
              "  <thead>\n",
              "    <tr style=\"text-align: right;\">\n",
              "      <th></th>\n",
              "      <th>count</th>\n",
              "      <th>mean</th>\n",
              "      <th>std</th>\n",
              "      <th>min</th>\n",
              "      <th>25%</th>\n",
              "      <th>50%</th>\n",
              "      <th>75%</th>\n",
              "      <th>max</th>\n",
              "      <th>iqr</th>\n",
              "    </tr>\n",
              "  </thead>\n",
              "  <tbody>\n",
              "    <tr>\n",
              "      <th>id</th>\n",
              "      <td>1992.0</td>\n",
              "      <td>97250.015060</td>\n",
              "      <td>57725.586267</td>\n",
              "      <td>67.00000</td>\n",
              "      <td>44693.0000</td>\n",
              "      <td>98059.000000</td>\n",
              "      <td>149679.000000</td>\n",
              "      <td>191779.0</td>\n",
              "      <td>104986.000000</td>\n",
              "    </tr>\n",
              "    <tr>\n",
              "      <th>ic2</th>\n",
              "      <td>3993.0</td>\n",
              "      <td>400.713248</td>\n",
              "      <td>180.568500</td>\n",
              "      <td>0.00000</td>\n",
              "      <td>284.0000</td>\n",
              "      <td>366.000000</td>\n",
              "      <td>478.000000</td>\n",
              "      <td>1500.0</td>\n",
              "      <td>194.000000</td>\n",
              "    </tr>\n",
              "    <tr>\n",
              "      <th>ic3</th>\n",
              "      <td>3993.0</td>\n",
              "      <td>399.876283</td>\n",
              "      <td>164.822741</td>\n",
              "      <td>0.00000</td>\n",
              "      <td>287.0000</td>\n",
              "      <td>365.000000</td>\n",
              "      <td>480.000000</td>\n",
              "      <td>1311.0</td>\n",
              "      <td>193.000000</td>\n",
              "    </tr>\n",
              "    <tr>\n",
              "      <th>ic4</th>\n",
              "      <td>3993.0</td>\n",
              "      <td>444.732031</td>\n",
              "      <td>175.004178</td>\n",
              "      <td>0.00000</td>\n",
              "      <td>325.0000</td>\n",
              "      <td>410.000000</td>\n",
              "      <td>528.000000</td>\n",
              "      <td>1331.0</td>\n",
              "      <td>203.000000</td>\n",
              "    </tr>\n",
              "    <tr>\n",
              "      <th>ic5</th>\n",
              "      <td>3993.0</td>\n",
              "      <td>16456.413724</td>\n",
              "      <td>9455.318118</td>\n",
              "      <td>0.00000</td>\n",
              "      <td>11136.0000</td>\n",
              "      <td>14356.000000</td>\n",
              "      <td>18780.000000</td>\n",
              "      <td>174523.0</td>\n",
              "      <td>7644.000000</td>\n",
              "    </tr>\n",
              "    <tr>\n",
              "      <th>median_home_val</th>\n",
              "      <td>3993.0</td>\n",
              "      <td>1158.724563</td>\n",
              "      <td>752.180882</td>\n",
              "      <td>0.00000</td>\n",
              "      <td>786.0000</td>\n",
              "      <td>1157.618045</td>\n",
              "      <td>1157.618045</td>\n",
              "      <td>5980.0</td>\n",
              "      <td>371.618045</td>\n",
              "    </tr>\n",
              "    <tr>\n",
              "      <th>median_household_income</th>\n",
              "      <td>1992.0</td>\n",
              "      <td>350.467871</td>\n",
              "      <td>173.568054</td>\n",
              "      <td>0.00000</td>\n",
              "      <td>236.7500</td>\n",
              "      <td>315.000000</td>\n",
              "      <td>420.000000</td>\n",
              "      <td>1500.0</td>\n",
              "      <td>183.250000</td>\n",
              "    </tr>\n",
              "    <tr>\n",
              "      <th>avggift</th>\n",
              "      <td>3993.0</td>\n",
              "      <td>11.785117</td>\n",
              "      <td>10.172672</td>\n",
              "      <td>2.26087</td>\n",
              "      <td>7.1875</td>\n",
              "      <td>10.000000</td>\n",
              "      <td>14.428571</td>\n",
              "      <td>450.0</td>\n",
              "      <td>7.241071</td>\n",
              "    </tr>\n",
              "    <tr>\n",
              "      <th>target_d</th>\n",
              "      <td>3993.0</td>\n",
              "      <td>15.665036</td>\n",
              "      <td>12.703041</td>\n",
              "      <td>1.00000</td>\n",
              "      <td>10.0000</td>\n",
              "      <td>14.000000</td>\n",
              "      <td>20.000000</td>\n",
              "      <td>200.0</td>\n",
              "      <td>10.000000</td>\n",
              "    </tr>\n",
              "  </tbody>\n",
              "</table>\n",
              "</div>"
            ],
            "text/plain": [
              "                          count          mean           std       min  \\\n",
              "id                       1992.0  97250.015060  57725.586267  67.00000   \n",
              "ic2                      3993.0    400.713248    180.568500   0.00000   \n",
              "ic3                      3993.0    399.876283    164.822741   0.00000   \n",
              "ic4                      3993.0    444.732031    175.004178   0.00000   \n",
              "ic5                      3993.0  16456.413724   9455.318118   0.00000   \n",
              "median_home_val          3993.0   1158.724563    752.180882   0.00000   \n",
              "median_household_income  1992.0    350.467871    173.568054   0.00000   \n",
              "avggift                  3993.0     11.785117     10.172672   2.26087   \n",
              "target_d                 3993.0     15.665036     12.703041   1.00000   \n",
              "\n",
              "                                25%           50%            75%       max  \\\n",
              "id                       44693.0000  98059.000000  149679.000000  191779.0   \n",
              "ic2                        284.0000    366.000000     478.000000    1500.0   \n",
              "ic3                        287.0000    365.000000     480.000000    1311.0   \n",
              "ic4                        325.0000    410.000000     528.000000    1331.0   \n",
              "ic5                      11136.0000  14356.000000   18780.000000  174523.0   \n",
              "median_home_val            786.0000   1157.618045    1157.618045    5980.0   \n",
              "median_household_income    236.7500    315.000000     420.000000    1500.0   \n",
              "avggift                      7.1875     10.000000      14.428571     450.0   \n",
              "target_d                    10.0000     14.000000      20.000000     200.0   \n",
              "\n",
              "                                   iqr  \n",
              "id                       104986.000000  \n",
              "ic2                         194.000000  \n",
              "ic3                         193.000000  \n",
              "ic4                         203.000000  \n",
              "ic5                        7644.000000  \n",
              "median_home_val             371.618045  \n",
              "median_household_income     183.250000  \n",
              "avggift                       7.241071  \n",
              "target_d                     10.000000  "
            ]
          },
          "metadata": {
            "tags": []
          },
          "execution_count": 6
        }
      ]
    },
    {
      "cell_type": "markdown",
      "metadata": {
        "id": "mX9kighUKsyK"
      },
      "source": [
        "## Rounding the `mean` column to two digits."
      ]
    },
    {
      "cell_type": "code",
      "metadata": {
        "colab": {
          "base_uri": "https://localhost:8080/",
          "height": 336
        },
        "id": "JiEuHvueKxZl",
        "outputId": "5cd69b51-5b06-48e2-b568-905a5051ba19"
      },
      "source": [
        "summary['mean'] = list(map(lambda x: round(x,2), summary['mean']))\r\n",
        "summary"
      ],
      "execution_count": null,
      "outputs": [
        {
          "output_type": "execute_result",
          "data": {
            "text/html": [
              "<div>\n",
              "<style scoped>\n",
              "    .dataframe tbody tr th:only-of-type {\n",
              "        vertical-align: middle;\n",
              "    }\n",
              "\n",
              "    .dataframe tbody tr th {\n",
              "        vertical-align: top;\n",
              "    }\n",
              "\n",
              "    .dataframe thead th {\n",
              "        text-align: right;\n",
              "    }\n",
              "</style>\n",
              "<table border=\"1\" class=\"dataframe\">\n",
              "  <thead>\n",
              "    <tr style=\"text-align: right;\">\n",
              "      <th></th>\n",
              "      <th>count</th>\n",
              "      <th>mean</th>\n",
              "      <th>std</th>\n",
              "      <th>min</th>\n",
              "      <th>25%</th>\n",
              "      <th>50%</th>\n",
              "      <th>75%</th>\n",
              "      <th>max</th>\n",
              "      <th>iqr</th>\n",
              "    </tr>\n",
              "  </thead>\n",
              "  <tbody>\n",
              "    <tr>\n",
              "      <th>id</th>\n",
              "      <td>1992.0</td>\n",
              "      <td>97250.02</td>\n",
              "      <td>57725.586267</td>\n",
              "      <td>67.00000</td>\n",
              "      <td>44693.0000</td>\n",
              "      <td>98059.000000</td>\n",
              "      <td>149679.000000</td>\n",
              "      <td>191779.0</td>\n",
              "      <td>104986.000000</td>\n",
              "    </tr>\n",
              "    <tr>\n",
              "      <th>ic2</th>\n",
              "      <td>3993.0</td>\n",
              "      <td>400.71</td>\n",
              "      <td>180.568500</td>\n",
              "      <td>0.00000</td>\n",
              "      <td>284.0000</td>\n",
              "      <td>366.000000</td>\n",
              "      <td>478.000000</td>\n",
              "      <td>1500.0</td>\n",
              "      <td>194.000000</td>\n",
              "    </tr>\n",
              "    <tr>\n",
              "      <th>ic3</th>\n",
              "      <td>3993.0</td>\n",
              "      <td>399.88</td>\n",
              "      <td>164.822741</td>\n",
              "      <td>0.00000</td>\n",
              "      <td>287.0000</td>\n",
              "      <td>365.000000</td>\n",
              "      <td>480.000000</td>\n",
              "      <td>1311.0</td>\n",
              "      <td>193.000000</td>\n",
              "    </tr>\n",
              "    <tr>\n",
              "      <th>ic4</th>\n",
              "      <td>3993.0</td>\n",
              "      <td>444.73</td>\n",
              "      <td>175.004178</td>\n",
              "      <td>0.00000</td>\n",
              "      <td>325.0000</td>\n",
              "      <td>410.000000</td>\n",
              "      <td>528.000000</td>\n",
              "      <td>1331.0</td>\n",
              "      <td>203.000000</td>\n",
              "    </tr>\n",
              "    <tr>\n",
              "      <th>ic5</th>\n",
              "      <td>3993.0</td>\n",
              "      <td>16456.41</td>\n",
              "      <td>9455.318118</td>\n",
              "      <td>0.00000</td>\n",
              "      <td>11136.0000</td>\n",
              "      <td>14356.000000</td>\n",
              "      <td>18780.000000</td>\n",
              "      <td>174523.0</td>\n",
              "      <td>7644.000000</td>\n",
              "    </tr>\n",
              "    <tr>\n",
              "      <th>median_home_val</th>\n",
              "      <td>3993.0</td>\n",
              "      <td>1158.72</td>\n",
              "      <td>752.180882</td>\n",
              "      <td>0.00000</td>\n",
              "      <td>786.0000</td>\n",
              "      <td>1157.618045</td>\n",
              "      <td>1157.618045</td>\n",
              "      <td>5980.0</td>\n",
              "      <td>371.618045</td>\n",
              "    </tr>\n",
              "    <tr>\n",
              "      <th>median_household_income</th>\n",
              "      <td>1992.0</td>\n",
              "      <td>350.47</td>\n",
              "      <td>173.568054</td>\n",
              "      <td>0.00000</td>\n",
              "      <td>236.7500</td>\n",
              "      <td>315.000000</td>\n",
              "      <td>420.000000</td>\n",
              "      <td>1500.0</td>\n",
              "      <td>183.250000</td>\n",
              "    </tr>\n",
              "    <tr>\n",
              "      <th>avggift</th>\n",
              "      <td>3993.0</td>\n",
              "      <td>11.79</td>\n",
              "      <td>10.172672</td>\n",
              "      <td>2.26087</td>\n",
              "      <td>7.1875</td>\n",
              "      <td>10.000000</td>\n",
              "      <td>14.428571</td>\n",
              "      <td>450.0</td>\n",
              "      <td>7.241071</td>\n",
              "    </tr>\n",
              "    <tr>\n",
              "      <th>target_d</th>\n",
              "      <td>3993.0</td>\n",
              "      <td>15.67</td>\n",
              "      <td>12.703041</td>\n",
              "      <td>1.00000</td>\n",
              "      <td>10.0000</td>\n",
              "      <td>14.000000</td>\n",
              "      <td>20.000000</td>\n",
              "      <td>200.0</td>\n",
              "      <td>10.000000</td>\n",
              "    </tr>\n",
              "  </tbody>\n",
              "</table>\n",
              "</div>"
            ],
            "text/plain": [
              "                          count      mean           std       min         25%  \\\n",
              "id                       1992.0  97250.02  57725.586267  67.00000  44693.0000   \n",
              "ic2                      3993.0    400.71    180.568500   0.00000    284.0000   \n",
              "ic3                      3993.0    399.88    164.822741   0.00000    287.0000   \n",
              "ic4                      3993.0    444.73    175.004178   0.00000    325.0000   \n",
              "ic5                      3993.0  16456.41   9455.318118   0.00000  11136.0000   \n",
              "median_home_val          3993.0   1158.72    752.180882   0.00000    786.0000   \n",
              "median_household_income  1992.0    350.47    173.568054   0.00000    236.7500   \n",
              "avggift                  3993.0     11.79     10.172672   2.26087      7.1875   \n",
              "target_d                 3993.0     15.67     12.703041   1.00000     10.0000   \n",
              "\n",
              "                                  50%            75%       max            iqr  \n",
              "id                       98059.000000  149679.000000  191779.0  104986.000000  \n",
              "ic2                        366.000000     478.000000    1500.0     194.000000  \n",
              "ic3                        365.000000     480.000000    1311.0     193.000000  \n",
              "ic4                        410.000000     528.000000    1331.0     203.000000  \n",
              "ic5                      14356.000000   18780.000000  174523.0    7644.000000  \n",
              "median_home_val           1157.618045    1157.618045    5980.0     371.618045  \n",
              "median_household_income    315.000000     420.000000    1500.0     183.250000  \n",
              "avggift                     10.000000      14.428571     450.0       7.241071  \n",
              "target_d                    14.000000      20.000000     200.0      10.000000  "
            ]
          },
          "metadata": {
            "tags": []
          },
          "execution_count": 7
        }
      ]
    },
    {
      "cell_type": "markdown",
      "metadata": {
        "id": "XdLgaVhaLQKe"
      },
      "source": [
        "## Activity 1"
      ]
    },
    {
      "cell_type": "markdown",
      "metadata": {
        "id": "rEWcc76FLlBW"
      },
      "source": [
        "Refer to the file files_for_activities/merged_clean_ver1.csv for this exercise.\r\n",
        "\r\n",
        "1. Import the merged_clean_ver1.csv file."
      ]
    },
    {
      "cell_type": "markdown",
      "metadata": {
        "id": "-t5MtAQZNydN"
      },
      "source": [
        "2. Check the data types of all columns in the dataframe."
      ]
    },
    {
      "cell_type": "markdown",
      "metadata": {
        "id": "RxhdFkX4OAWr"
      },
      "source": [
        "3. Use the describe method on only the float type columns."
      ]
    },
    {
      "cell_type": "markdown",
      "metadata": {
        "id": "7M2ztK9-PmBV"
      },
      "source": [
        "4. What is the difference between population mean and sample mean?\r\n",
        "\r\n",
        "For the last question, discuss the difference between population and random samples in statistics. Also mention population standard deviation and sample standard deviation. Use the math library to show the difference in results by using the methods on a list."
      ]
    },
    {
      "cell_type": "markdown",
      "metadata": {
        "id": "L9Ii4PHxQkwB"
      },
      "source": [
        "Let's get a ten random samples of our population. Then we can compare the mean of each samples with the population mean."
      ]
    },
    {
      "cell_type": "markdown",
      "metadata": {
        "id": "971ECbh0RuKv"
      },
      "source": [
        "# Lesson 2"
      ]
    },
    {
      "cell_type": "markdown",
      "metadata": {
        "id": "8hcmYPaTR2ah"
      },
      "source": [
        "## Loading libraries"
      ]
    },
    {
      "cell_type": "code",
      "metadata": {
        "id": "eIS8d2-gR4Ih"
      },
      "source": [
        "import matplotlib.pyplot as plt\r\n",
        "import seaborn as sns\r\n",
        "%matplotlib inline"
      ],
      "execution_count": null,
      "outputs": []
    },
    {
      "cell_type": "markdown",
      "metadata": {
        "id": "Hqhg91eVR90k"
      },
      "source": [
        "## Scatter plot"
      ]
    },
    {
      "cell_type": "markdown",
      "metadata": {
        "id": "gkLl_26wT8kT"
      },
      "source": [
        "This type of plot shows us how two variables are related to each other."
      ]
    },
    {
      "cell_type": "code",
      "metadata": {
        "colab": {
          "base_uri": "https://localhost:8080/",
          "height": 265
        },
        "id": "PmepBTgHSBCc",
        "outputId": "98a074f2-a79c-44d7-89b2-d43a9cd07c8b"
      },
      "source": [
        "plt.scatter(x=data['ic2'], y=data['ic3'])\r\n",
        "plt.show()"
      ],
      "execution_count": null,
      "outputs": [
        {
          "output_type": "display_data",
          "data": {
            "image/png": "[encoded data removed]",
            "text/plain": [
              "<Figure size 432x288 with 1 Axes>"
            ]
          },
          "metadata": {
            "tags": [],
            "needs_background": "light"
          }
        }
      ]
    },
    {
      "cell_type": "markdown",
      "metadata": {
        "id": "YTHh9kUeSKTh"
      },
      "source": [
        "As you can see, `ic2` and `ic3` column values seems to be `linnearly` related. In other words, if we know `ic2`we can provide a `reasonable` guess the value of `ic3`, except for the isolated dot on the left."
      ]
    },
    {
      "cell_type": "markdown",
      "metadata": {
        "id": "nmN4Z3MAStQo"
      },
      "source": [
        "## Histogram"
      ]
    },
    {
      "cell_type": "markdown",
      "metadata": {
        "id": "SAhAba7EUD46"
      },
      "source": [
        "This plot, show us for a given **numerical and continuous** variable how many values of given column are within a given range. In other words, is a `frequency` plot, namely how frequent is to have a value in a given range."
      ]
    },
    {
      "cell_type": "markdown",
      "metadata": {
        "id": "Pha0MAAhSwko"
      },
      "source": [
        "Let's get know how many values of `median_home_val` are withing a given `bin` of values. "
      ]
    },
    {
      "cell_type": "code",
      "metadata": {
        "colab": {
          "base_uri": "https://localhost:8080/",
          "height": 265
        },
        "id": "d1xVpGI0Svau",
        "outputId": "154bd26c-206f-44f8-d422-a69f75fafe95"
      },
      "source": [
        "data['median_home_val'].hist()\r\n",
        "plt.show()"
      ],
      "execution_count": null,
      "outputs": [
        {
          "output_type": "display_data",
          "data": {
            "image/png": "[encoded data removed]",
            "text/plain": [
              "<Figure size 432x288 with 1 Axes>"
            ]
          },
          "metadata": {
            "tags": [],
            "needs_background": "light"
          }
        }
      ]
    },
    {
      "cell_type": "markdown",
      "metadata": {
        "id": "u9ISMOuNTA-C"
      },
      "source": [
        "This is clearly showing us, that `median_home_val` has more small values than higher values.\r\n",
        "\r\n",
        "By default, the `hist` function creates twenty `bins` but in some cases we would like to have different number of them. We can change them with the **keyword** `bins` as shown below. "
      ]
    },
    {
      "cell_type": "code",
      "metadata": {
        "colab": {
          "base_uri": "https://localhost:8080/",
          "height": 265
        },
        "id": "hWn02WXATwB3",
        "outputId": "84dbe445-843e-407e-f4ae-d69e52380421"
      },
      "source": [
        "data['median_home_val'].hist(bins=40)\r\n",
        "plt.show()"
      ],
      "execution_count": null,
      "outputs": [
        {
          "output_type": "display_data",
          "data": {
            "image/png": "[encoded data removed]",
            "text/plain": [
              "<Figure size 432x288 with 1 Axes>"
            ]
          },
          "metadata": {
            "tags": [],
            "needs_background": "light"
          }
        }
      ]
    },
    {
      "cell_type": "markdown",
      "metadata": {
        "id": "jtT3MxwhUa9J"
      },
      "source": [
        "As show, the shape of the histogram has changed but the general properties of it don't: **low values are more frequent than big values**.\r\n",
        "\r\n",
        "We can continue playing with the number of bins increasing it in order to have a more finner granularity. However, if we set the number of bins to a very high value then we will find bins without any value. "
      ]
    },
    {
      "cell_type": "markdown",
      "metadata": {
        "id": "ske5JhscVHAd"
      },
      "source": [
        "## Distribution plot"
      ]
    },
    {
      "cell_type": "markdown",
      "metadata": {
        "id": "DY149E0GVJQG"
      },
      "source": [
        "If the column we are considering is numerical and continuous we create a distribution plot, which show us which values are more frequent. This is a limit case of the histogram plot. \r\n",
        "\r\n",
        "In contrast with the histogram, the number of values in each bin is divided by the total number of observations. In this way, each bar represent the probability of finding a value withing a given bin. If we add all the values of each bin, they will add 1.\r\n",
        "\r\n",
        "If we draw a line which \"passes\" by the highest point of each bar, we get the distribution of the variable. \r\n",
        "\r\n",
        "For the same reasons of the histogram bars, the area under the curve adds 1."
      ]
    },
    {
      "cell_type": "code",
      "metadata": {
        "colab": {
          "base_uri": "https://localhost:8080/",
          "height": 280
        },
        "id": "n04B9DgqVgAR",
        "outputId": "cc756c2f-5e72-4546-a917-1ed63c1e3cb5"
      },
      "source": [
        "sns.distplot(data['median_home_val'], bins=20)\r\n",
        "plt.show()"
      ],
      "execution_count": null,
      "outputs": [
        {
          "output_type": "display_data",
          "data": {
            "image/png": "[encoded data removed]",
            "text/plain": [
              "<Figure size 432x288 with 1 Axes>"
            ]
          },
          "metadata": {
            "tags": [],
            "needs_background": "light"
          }
        }
      ]
    },
    {
      "cell_type": "markdown",
      "metadata": {
        "id": "eHmd2h5nXGVq"
      },
      "source": [
        "## Boxplot"
      ]
    },
    {
      "cell_type": "markdown",
      "metadata": {
        "id": "8PCIdsmAXHvh"
      },
      "source": [
        "Boxplots are plots of boxes whose edges corresponds to the quartiles of a the distribution of a column, alongside some `whiskers` located at `q1 - 1.5 * iqr` and `q3 + 1.5 * iqr` respectivelly.\r\n",
        "\r\n",
        "They are really usefull to have a quick overview of the shape of the distribution of a column. Thus, the wider the distribution, the larger the box. \r\n",
        "\r\n",
        "Let's see an example using `matplotlib` and `seaborn`"
      ]
    },
    {
      "cell_type": "code",
      "metadata": {
        "colab": {
          "base_uri": "https://localhost:8080/",
          "height": 266
        },
        "id": "Vo28kYS7reEh",
        "outputId": "bcede58d-d1d9-4f1e-9744-64ad9f1ca415"
      },
      "source": [
        "data[['median_home_val']].boxplot()\r\n",
        "plt.show()"
      ],
      "execution_count": null,
      "outputs": [
        {
          "output_type": "display_data",
          "data": {
            "image/png": "[encoded data removed]",
            "text/plain": [
              "<Figure size 432x288 with 1 Axes>"
            ]
          },
          "metadata": {
            "tags": [],
            "needs_background": "light"
          }
        }
      ]
    },
    {
      "cell_type": "code",
      "metadata": {
        "colab": {
          "base_uri": "https://localhost:8080/",
          "height": 252
        },
        "id": "9qQxlbxjryw2",
        "outputId": "afa0a885-81ab-411c-fa71-0c6a394eefaa"
      },
      "source": [
        "sns.boxplot(y=\"median_home_val\", data=data)\r\n",
        "plt.show()"
      ],
      "execution_count": null,
      "outputs": [
        {
          "output_type": "display_data",
          "data": {
            "image/png": "[encoded data removed]",
            "text/plain": [
              "<Figure size 432x288 with 1 Axes>"
            ]
          },
          "metadata": {
            "tags": [],
            "needs_background": "light"
          }
        }
      ]
    },
    {
      "cell_type": "markdown",
      "metadata": {
        "id": "99Mw-xVNr3hK"
      },
      "source": [
        "The graphs are the same, what it changes is the display. \r\n",
        "\r\n",
        "In particular the small \"size\" of the box, is telling us that most the values of the distribution are concentrated around 900. On the other hand, the big ammount of values outside the `wiskers` is telling us that the distribution has a **very long tail**."
      ]
    },
    {
      "cell_type": "markdown",
      "metadata": {
        "id": "zP_yizOpscMF"
      },
      "source": [
        "Using `seaborn` library we can also see how different are the boxplots with respecto another `categorical`variable. In other words, how the boxplots for a different value of another variable look like? "
      ]
    },
    {
      "cell_type": "code",
      "metadata": {
        "colab": {
          "base_uri": "https://localhost:8080/"
        },
        "id": "VcEGuXmcwcN9",
        "outputId": "a7c4f0c2-6727-441c-87d5-31b3d268d82b"
      },
      "source": [
        "data['gender'].value_counts()"
      ],
      "execution_count": null,
      "outputs": [
        {
          "output_type": "execute_result",
          "data": {
            "text/plain": [
              "Female    2276\n",
              "Male      1625\n",
              "U           92\n",
              "Name: gender, dtype: int64"
            ]
          },
          "metadata": {
            "tags": []
          },
          "execution_count": 22
        }
      ]
    },
    {
      "cell_type": "code",
      "metadata": {
        "colab": {
          "base_uri": "https://localhost:8080/",
          "height": 279
        },
        "id": "0LqHh4Sqs05N",
        "outputId": "b177e7d1-bdae-4def-e19f-b7bc60368ba1"
      },
      "source": [
        "sns.boxplot(x ='gender',y='median_home_val', data=data)\r\n",
        "plt.show()"
      ],
      "execution_count": null,
      "outputs": [
        {
          "output_type": "display_data",
          "data": {
            "image/png": "[encoded data removed]",
            "text/plain": [
              "<Figure size 432x288 with 1 Axes>"
            ]
          },
          "metadata": {
            "tags": [],
            "needs_background": "light"
          }
        }
      ]
    },
    {
      "cell_type": "markdown",
      "metadata": {
        "id": "czS79sHCs8mB"
      },
      "source": [
        "## Barplot"
      ]
    },
    {
      "cell_type": "markdown",
      "metadata": {
        "id": "y9fTSm0gs-Hr"
      },
      "source": [
        "Barplots are usally used when we want to see the frequency of the values of a `categorical` variable."
      ]
    },
    {
      "cell_type": "code",
      "metadata": {
        "colab": {
          "base_uri": "https://localhost:8080/",
          "height": 279
        },
        "id": "Jg1xD0Q_tKNb",
        "outputId": "0a09c5d1-ce0b-4b1e-aedb-f4963e5ba7e2"
      },
      "source": [
        "sns.barplot(x=\"gender\", y=\"median_home_val\", data=data)\r\n",
        "plt.show()"
      ],
      "execution_count": null,
      "outputs": [
        {
          "output_type": "display_data",
          "data": {
            "image/png": "[encoded data removed]",
            "text/plain": [
              "<Figure size 432x288 with 1 Axes>"
            ]
          },
          "metadata": {
            "tags": [],
            "needs_background": "light"
          }
        }
      ]
    },
    {
      "cell_type": "markdown",
      "metadata": {
        "id": "Gp8cpudKtPeK"
      },
      "source": [
        "Is equivalent to a histogram, but for `categorical` variables."
      ]
    },
    {
      "cell_type": "code",
      "metadata": {
        "colab": {
          "base_uri": "https://localhost:8080/",
          "height": 933
        },
        "id": "8ytKKGFmtxME",
        "outputId": "b014e103-60d3-4c32-e2f2-355821ea6b0c"
      },
      "source": [
        "plt.figure(figsize=(16,16))\r\n",
        "sns.barplot(y=\"state\", x=\"median_home_val\", hue= 'gender', data=data)\r\n",
        "plt.show()"
      ],
      "execution_count": null,
      "outputs": [
        {
          "output_type": "display_data",
          "data": {
            "image/png": "[encoded data removed]",
            "text/plain": [
              "<Figure size 1152x1152 with 1 Axes>"
            ]
          },
          "metadata": {
            "tags": [],
            "needs_background": "light"
          }
        }
      ]
    },
    {
      "cell_type": "markdown",
      "metadata": {
        "id": "GDAfoc07HY0I"
      },
      "source": [
        "## Activity 2"
      ]
    },
    {
      "cell_type": "markdown",
      "metadata": {
        "id": "FUpTBnOgHnOt"
      },
      "source": [
        "1. Get the numeric data."
      ]
    },
    {
      "cell_type": "markdown",
      "metadata": {
        "id": "EeBrU0HoKMOf"
      },
      "source": [
        "2. Use the describe() method on the numeric data in the DataFrame."
      ]
    },
    {
      "cell_type": "markdown",
      "metadata": {
        "id": "vbZ93ZG_KTrT"
      },
      "source": [
        "3. Print the median."
      ]
    },
    {
      "cell_type": "markdown",
      "metadata": {
        "id": "AH_7IY96LDfV"
      },
      "source": [
        "4. Print IQR."
      ]
    },
    {
      "cell_type": "markdown",
      "metadata": {
        "id": "Hz3_iWrWLciV"
      },
      "source": [
        "# Lesson 3"
      ]
    },
    {
      "cell_type": "markdown",
      "metadata": {
        "id": "9Ym1UgIKLj8q"
      },
      "source": [
        "## Relationship between two variables"
      ]
    },
    {
      "cell_type": "code",
      "metadata": {
        "colab": {
          "base_uri": "https://localhost:8080/",
          "height": 265
        },
        "id": "29JPxGX1Lq86",
        "outputId": "7e587ee2-df78-4f49-f573-b76c22c22809"
      },
      "source": [
        "plt.scatter(x=data['ic2'], y=data['ic3'])\r\n",
        "plt.show()"
      ],
      "execution_count": null,
      "outputs": [
        {
          "output_type": "display_data",
          "data": {
            "image/png": "[encoded data removed]",
            "text/plain": [
              "<Figure size 432x288 with 1 Axes>"
            ]
          },
          "metadata": {
            "tags": [],
            "needs_background": "light"
          }
        }
      ]
    },
    {
      "cell_type": "markdown",
      "metadata": {
        "id": "YEAxHh1gLvpC"
      },
      "source": [
        "## Loading `stats` library"
      ]
    },
    {
      "cell_type": "code",
      "metadata": {
        "id": "e-jKqbSDM7oL"
      },
      "source": [
        "import scipy.stats as stats"
      ],
      "execution_count": null,
      "outputs": []
    },
    {
      "cell_type": "markdown",
      "metadata": {
        "id": "YAZsmmi2NTML"
      },
      "source": [
        "## Getting the correlation between two numerical variables"
      ]
    },
    {
      "cell_type": "markdown",
      "metadata": {
        "id": "-zAmY4YrNqVy"
      },
      "source": [
        "Let's quantify how **linnearly related** are two variables.\r\n",
        "\r\n",
        "The correlation coefficient is defined as:\r\n",
        "\r\n",
        "$$ \\rho(x,y) = \\frac{\\sum_{i}(x_{i}-\\mu_{x})(y_{i}-\\mu_{y})}{\\sigma_{x}\\sigma_{y}} $$"
      ]
    },
    {
      "cell_type": "code",
      "metadata": {
        "colab": {
          "base_uri": "https://localhost:8080/"
        },
        "id": "1r45nKx_NX7z",
        "outputId": "46680736-831d-42d7-ce89-23abf1c66b20"
      },
      "source": [
        "x=data['ic2']\r\n",
        "y=data['ic3']\r\n",
        "stats.pearsonr(x, y) # gives correlation coefficient and the p value"
      ],
      "execution_count": null,
      "outputs": [
        {
          "output_type": "execute_result",
          "data": {
            "text/plain": [
              "(0.953585340329417, 0.0)"
            ]
          },
          "metadata": {
            "tags": []
          },
          "execution_count": 33
        }
      ]
    },
    {
      "cell_type": "markdown",
      "metadata": {
        "id": "YtvmK0lXNybW"
      },
      "source": [
        "Another way to do the same."
      ]
    },
    {
      "cell_type": "code",
      "metadata": {
        "colab": {
          "base_uri": "https://localhost:8080/"
        },
        "id": "CuIPPA5ONoqM",
        "outputId": "98b44c1f-873c-4821-f3a0-7e67e788dc68"
      },
      "source": [
        "x.corr(y) # this is the pandas implementation of the correlation coefficient"
      ],
      "execution_count": null,
      "outputs": [
        {
          "output_type": "execute_result",
          "data": {
            "text/plain": [
              "0.9535853403294166"
            ]
          },
          "metadata": {
            "tags": []
          },
          "execution_count": 34
        }
      ]
    },
    {
      "cell_type": "markdown",
      "metadata": {
        "id": "IZ-SHwvOODTu"
      },
      "source": [
        "## Spearman's correlation"
      ]
    },
    {
      "cell_type": "markdown",
      "metadata": {
        "id": "gR5-tqG1RCHd"
      },
      "source": [
        "Spearman's correlations measures the difference in the order of two variables. To this end, we sort the values of both variables from the smallest to the biggest and then we compare the `ranking` difference between the values.\r\n",
        "\r\n",
        "$$ \\rho = 1-\\frac{6\\sum_{i}(rank(x_{i})-rank(y_{i}))^{2}}{N(N^{2}-1)} $$"
      ]
    },
    {
      "cell_type": "code",
      "metadata": {
        "colab": {
          "base_uri": "https://localhost:8080/"
        },
        "id": "NaBtYaXiOKKu",
        "outputId": "afaf14f0-c6be-4139-c912-e3f279a7e051"
      },
      "source": [
        "stats.spearmanr(x, y)"
      ],
      "execution_count": null,
      "outputs": [
        {
          "output_type": "execute_result",
          "data": {
            "text/plain": [
              "SpearmanrResult(correlation=0.9510617375454639, pvalue=0.0)"
            ]
          },
          "metadata": {
            "tags": []
          },
          "execution_count": 35
        }
      ]
    },
    {
      "cell_type": "markdown",
      "metadata": {
        "id": "u9Ft4xl3R7sm"
      },
      "source": [
        "## Kendall's tau."
      ]
    },
    {
      "cell_type": "markdown",
      "metadata": {
        "id": "Yn-ydD5-WXzQ"
      },
      "source": [
        "This correlation coefficient also measures the `ranking ` difference between the values of two variables but in a different way.\r\n",
        "\r\n",
        "$$\\tau=\\frac{2}{n(n-1)}\\sum_{i<j}sign(x_{i}-x_{j})sign(y_{i}-y_{j})$$"
      ]
    },
    {
      "cell_type": "markdown",
      "metadata": {
        "id": "PxU8zmo-b-9T"
      },
      "source": [
        "## Activity 3"
      ]
    },
    {
      "cell_type": "markdown",
      "metadata": {
        "id": "GMqs_fPQc0wR"
      },
      "source": [
        "1. Load data from the merged_clean_ver2.csv file."
      ]
    },
    {
      "cell_type": "markdown",
      "metadata": {
        "id": "GoHAm3EOc-K5"
      },
      "source": [
        "2. Plot Pearson Correlation Heatmap."
      ]
    },
    {
      "cell_type": "markdown",
      "metadata": {
        "id": "ATwf1FiodSV0"
      },
      "source": [
        "We commpute the correlation matrix with `Pearson's` method"
      ]
    },
    {
      "cell_type": "markdown",
      "metadata": {
        "id": "wZboDFp2dbFX"
      },
      "source": [
        "The correlation matrix is symmetrical, therefore: corr(x,y) = corr(y,x) and the we don't need the full matrix. We only need all the elements of the diagonal (they should be one as every variable is perfectly correlated with itself) and and the elements above or below the diagonal.\r\n",
        "\r\n",
        "To filter elements first we create a matrix full of zeros as big as the correlation matrix."
      ]
    },
    {
      "cell_type": "markdown",
      "metadata": {
        "id": "8ERBtNM3e1dL"
      },
      "source": [
        "The next step is to select the elements of the diagonal and above it."
      ]
    },
    {
      "cell_type": "markdown",
      "metadata": {
        "id": "tw02nhiOfCcC"
      },
      "source": [
        "And finally make the plot."
      ]
    },
    {
      "cell_type": "markdown",
      "metadata": {
        "id": "OdyRMAAkfU3L"
      },
      "source": [
        "Now let's do the same with `Spearman's`correlation."
      ]
    },
    {
      "cell_type": "markdown",
      "metadata": {
        "id": "J7j9Z7gYgRKb"
      },
      "source": [
        "Finally with `Kendall's` correlation"
      ]
    },
    {
      "cell_type": "markdown",
      "metadata": {
        "id": "GKzAEkTy6CCv"
      },
      "source": [
        "# Lesson 4"
      ]
    },
    {
      "cell_type": "markdown",
      "metadata": {
        "id": "B3wZbwGQ6Ii6"
      },
      "source": [
        "## Refreshing correlation matrix"
      ]
    },
    {
      "cell_type": "code",
      "metadata": {
        "colab": {
          "base_uri": "https://localhost:8080/",
          "height": 286
        },
        "id": "rPPP8SIZ6Hmb",
        "outputId": "a9552d6b-d5bd-410d-d095-1e5d2aa54e5e"
      },
      "source": [
        "corr_data = data.drop(['id','state', 'gender'], axis=1)\r\n",
        "correlations_matrix = corr_data.corr()\r\n",
        "correlations_matrix"
      ],
      "execution_count": null,
      "outputs": [
        {
          "output_type": "execute_result",
          "data": {
            "text/html": [
              "<div>\n",
              "<style scoped>\n",
              "    .dataframe tbody tr th:only-of-type {\n",
              "        vertical-align: middle;\n",
              "    }\n",
              "\n",
              "    .dataframe tbody tr th {\n",
              "        vertical-align: top;\n",
              "    }\n",
              "\n",
              "    .dataframe thead th {\n",
              "        text-align: right;\n",
              "    }\n",
              "</style>\n",
              "<table border=\"1\" class=\"dataframe\">\n",
              "  <thead>\n",
              "    <tr style=\"text-align: right;\">\n",
              "      <th></th>\n",
              "      <th>ic2</th>\n",
              "      <th>ic3</th>\n",
              "      <th>ic4</th>\n",
              "      <th>ic5</th>\n",
              "      <th>median_home_val</th>\n",
              "      <th>median_household_income</th>\n",
              "      <th>avggift</th>\n",
              "      <th>target_d</th>\n",
              "    </tr>\n",
              "  </thead>\n",
              "  <tbody>\n",
              "    <tr>\n",
              "      <th>ic2</th>\n",
              "      <td>1.000000</td>\n",
              "      <td>0.953585</td>\n",
              "      <td>0.971498</td>\n",
              "      <td>0.874783</td>\n",
              "      <td>0.538593</td>\n",
              "      <td>0.957053</td>\n",
              "      <td>0.136096</td>\n",
              "      <td>0.129964</td>\n",
              "    </tr>\n",
              "    <tr>\n",
              "      <th>ic3</th>\n",
              "      <td>0.953585</td>\n",
              "      <td>1.000000</td>\n",
              "      <td>0.971909</td>\n",
              "      <td>0.827514</td>\n",
              "      <td>0.539173</td>\n",
              "      <td>0.973416</td>\n",
              "      <td>0.125438</td>\n",
              "      <td>0.121965</td>\n",
              "    </tr>\n",
              "    <tr>\n",
              "      <th>ic4</th>\n",
              "      <td>0.971498</td>\n",
              "      <td>0.971909</td>\n",
              "      <td>1.000000</td>\n",
              "      <td>0.868411</td>\n",
              "      <td>0.547550</td>\n",
              "      <td>0.932306</td>\n",
              "      <td>0.132438</td>\n",
              "      <td>0.131260</td>\n",
              "    </tr>\n",
              "    <tr>\n",
              "      <th>ic5</th>\n",
              "      <td>0.874783</td>\n",
              "      <td>0.827514</td>\n",
              "      <td>0.868411</td>\n",
              "      <td>1.000000</td>\n",
              "      <td>0.560962</td>\n",
              "      <td>0.819433</td>\n",
              "      <td>0.141580</td>\n",
              "      <td>0.137878</td>\n",
              "    </tr>\n",
              "    <tr>\n",
              "      <th>median_home_val</th>\n",
              "      <td>0.538593</td>\n",
              "      <td>0.539173</td>\n",
              "      <td>0.547550</td>\n",
              "      <td>0.560962</td>\n",
              "      <td>1.000000</td>\n",
              "      <td>0.722194</td>\n",
              "      <td>0.098893</td>\n",
              "      <td>0.074641</td>\n",
              "    </tr>\n",
              "    <tr>\n",
              "      <th>median_household_income</th>\n",
              "      <td>0.957053</td>\n",
              "      <td>0.973416</td>\n",
              "      <td>0.932306</td>\n",
              "      <td>0.819433</td>\n",
              "      <td>0.722194</td>\n",
              "      <td>1.000000</td>\n",
              "      <td>0.108663</td>\n",
              "      <td>0.102915</td>\n",
              "    </tr>\n",
              "    <tr>\n",
              "      <th>avggift</th>\n",
              "      <td>0.136096</td>\n",
              "      <td>0.125438</td>\n",
              "      <td>0.132438</td>\n",
              "      <td>0.141580</td>\n",
              "      <td>0.098893</td>\n",
              "      <td>0.108663</td>\n",
              "      <td>1.000000</td>\n",
              "      <td>0.487595</td>\n",
              "    </tr>\n",
              "    <tr>\n",
              "      <th>target_d</th>\n",
              "      <td>0.129964</td>\n",
              "      <td>0.121965</td>\n",
              "      <td>0.131260</td>\n",
              "      <td>0.137878</td>\n",
              "      <td>0.074641</td>\n",
              "      <td>0.102915</td>\n",
              "      <td>0.487595</td>\n",
              "      <td>1.000000</td>\n",
              "    </tr>\n",
              "  </tbody>\n",
              "</table>\n",
              "</div>"
            ],
            "text/plain": [
              "                              ic2       ic3       ic4       ic5  \\\n",
              "ic2                      1.000000  0.953585  0.971498  0.874783   \n",
              "ic3                      0.953585  1.000000  0.971909  0.827514   \n",
              "ic4                      0.971498  0.971909  1.000000  0.868411   \n",
              "ic5                      0.874783  0.827514  0.868411  1.000000   \n",
              "median_home_val          0.538593  0.539173  0.547550  0.560962   \n",
              "median_household_income  0.957053  0.973416  0.932306  0.819433   \n",
              "avggift                  0.136096  0.125438  0.132438  0.141580   \n",
              "target_d                 0.129964  0.121965  0.131260  0.137878   \n",
              "\n",
              "                         median_home_val  median_household_income   avggift  \\\n",
              "ic2                             0.538593                 0.957053  0.136096   \n",
              "ic3                             0.539173                 0.973416  0.125438   \n",
              "ic4                             0.547550                 0.932306  0.132438   \n",
              "ic5                             0.560962                 0.819433  0.141580   \n",
              "median_home_val                 1.000000                 0.722194  0.098893   \n",
              "median_household_income         0.722194                 1.000000  0.108663   \n",
              "avggift                         0.098893                 0.108663  1.000000   \n",
              "target_d                        0.074641                 0.102915  0.487595   \n",
              "\n",
              "                         target_d  \n",
              "ic2                      0.129964  \n",
              "ic3                      0.121965  \n",
              "ic4                      0.131260  \n",
              "ic5                      0.137878  \n",
              "median_home_val          0.074641  \n",
              "median_household_income  0.102915  \n",
              "avggift                  0.487595  \n",
              "target_d                 1.000000  "
            ]
          },
          "metadata": {
            "tags": []
          },
          "execution_count": 43
        }
      ]
    },
    {
      "cell_type": "markdown",
      "metadata": {
        "id": "w8CvvUjO6ZKt"
      },
      "source": [
        "## Getting the heatmap of the correlation matrix"
      ]
    },
    {
      "cell_type": "code",
      "metadata": {
        "colab": {
          "base_uri": "https://localhost:8080/",
          "height": 987
        },
        "id": "siI4YVT26X7s",
        "outputId": "bcdad882-e73a-4bd2-e9e6-2fcced06405f"
      },
      "source": [
        "sns.heatmap(correlations_matrix, annot=True)\r\n",
        "plt.show() # Full correlation matrix\r\n",
        "mask = np.zeros_like(correlations_matrix)\r\n",
        "mask[np.triu_indices_from(mask)] = True # don't include if you think it will confuse the students right now\r\n",
        "fig, ax = plt.subplots(figsize=(10, 8))\r\n",
        "ax = sns.heatmap(correlations_matrix, mask=mask, annot=True)\r\n",
        "plt.show() # Half correlation matrix"
      ],
      "execution_count": null,
      "outputs": [
        {
          "output_type": "display_data",
          "data": {
            "image/png": "[encoded data removed]",
            "text/plain": [
              "<Figure size 432x288 with 2 Axes>"
            ]
          },
          "metadata": {
            "tags": [],
            "needs_background": "light"
          }
        },
        {
          "output_type": "display_data",
          "data": {
            "image/png": "[encoded data removed]",
            "text/plain": [
              "<Figure size 720x576 with 2 Axes>"
            ]
          },
          "metadata": {
            "tags": [],
            "needs_background": "light"
          }
        }
      ]
    },
    {
      "cell_type": "markdown",
      "metadata": {
        "id": "bC55VnC86wjf"
      },
      "source": [
        "## Relationship between `categorical` features"
      ]
    },
    {
      "cell_type": "markdown",
      "metadata": {
        "id": "LlflqweB64Jy"
      },
      "source": [
        "A correlation matrix only can measure the `linnear relationship`between several variables, but what if we want to check out the relationship between `categorical` features? Can we quantify this? \r\n",
        "\r\n",
        "Yes, we can! And the tool to do it is the $\\chi^{2}$ test. To do this, the first step is to get a `contingency table` where we show how many cases we have for all the possible values of **TWO** `categorical` features."
      ]
    },
    {
      "cell_type": "code",
      "metadata": {
        "colab": {
          "base_uri": "https://localhost:8080/",
          "height": 1000
        },
        "id": "XRHHfizE8g4g",
        "outputId": "06c21d05-875a-43d8-c822-c555d0c766dd"
      },
      "source": [
        "crosstab = pd.crosstab(data['state'], data['gender'])  # note we need to clean column state before we use this crosstab\r\n",
        "crosstab"
      ],
      "execution_count": null,
      "outputs": [
        {
          "output_type": "execute_result",
          "data": {
            "text/html": [
              "<div>\n",
              "<style scoped>\n",
              "    .dataframe tbody tr th:only-of-type {\n",
              "        vertical-align: middle;\n",
              "    }\n",
              "\n",
              "    .dataframe tbody tr th {\n",
              "        vertical-align: top;\n",
              "    }\n",
              "\n",
              "    .dataframe thead th {\n",
              "        text-align: right;\n",
              "    }\n",
              "</style>\n",
              "<table border=\"1\" class=\"dataframe\">\n",
              "  <thead>\n",
              "    <tr style=\"text-align: right;\">\n",
              "      <th>gender</th>\n",
              "      <th>Female</th>\n",
              "      <th>Male</th>\n",
              "      <th>U</th>\n",
              "    </tr>\n",
              "    <tr>\n",
              "      <th>state</th>\n",
              "      <th></th>\n",
              "      <th></th>\n",
              "      <th></th>\n",
              "    </tr>\n",
              "  </thead>\n",
              "  <tbody>\n",
              "    <tr>\n",
              "      <th>AA</th>\n",
              "      <td>0</td>\n",
              "      <td>2</td>\n",
              "      <td>0</td>\n",
              "    </tr>\n",
              "    <tr>\n",
              "      <th>AE</th>\n",
              "      <td>1</td>\n",
              "      <td>0</td>\n",
              "      <td>0</td>\n",
              "    </tr>\n",
              "    <tr>\n",
              "      <th>AK</th>\n",
              "      <td>1</td>\n",
              "      <td>5</td>\n",
              "      <td>0</td>\n",
              "    </tr>\n",
              "    <tr>\n",
              "      <th>AL</th>\n",
              "      <td>33</td>\n",
              "      <td>23</td>\n",
              "      <td>3</td>\n",
              "    </tr>\n",
              "    <tr>\n",
              "      <th>AP</th>\n",
              "      <td>0</td>\n",
              "      <td>3</td>\n",
              "      <td>0</td>\n",
              "    </tr>\n",
              "    <tr>\n",
              "      <th>AR</th>\n",
              "      <td>28</td>\n",
              "      <td>13</td>\n",
              "      <td>1</td>\n",
              "    </tr>\n",
              "    <tr>\n",
              "      <th>AZ</th>\n",
              "      <td>63</td>\n",
              "      <td>40</td>\n",
              "      <td>2</td>\n",
              "    </tr>\n",
              "    <tr>\n",
              "      <th>CA</th>\n",
              "      <td>532</td>\n",
              "      <td>315</td>\n",
              "      <td>28</td>\n",
              "    </tr>\n",
              "    <tr>\n",
              "      <th>CO</th>\n",
              "      <td>56</td>\n",
              "      <td>31</td>\n",
              "      <td>1</td>\n",
              "    </tr>\n",
              "    <tr>\n",
              "      <th>CT</th>\n",
              "      <td>1</td>\n",
              "      <td>2</td>\n",
              "      <td>0</td>\n",
              "    </tr>\n",
              "    <tr>\n",
              "      <th>FL</th>\n",
              "      <td>180</td>\n",
              "      <td>153</td>\n",
              "      <td>4</td>\n",
              "    </tr>\n",
              "    <tr>\n",
              "      <th>GA</th>\n",
              "      <td>74</td>\n",
              "      <td>45</td>\n",
              "      <td>3</td>\n",
              "    </tr>\n",
              "    <tr>\n",
              "      <th>GU</th>\n",
              "      <td>0</td>\n",
              "      <td>1</td>\n",
              "      <td>0</td>\n",
              "    </tr>\n",
              "    <tr>\n",
              "      <th>HI</th>\n",
              "      <td>11</td>\n",
              "      <td>9</td>\n",
              "      <td>1</td>\n",
              "    </tr>\n",
              "    <tr>\n",
              "      <th>IA</th>\n",
              "      <td>24</td>\n",
              "      <td>20</td>\n",
              "      <td>0</td>\n",
              "    </tr>\n",
              "    <tr>\n",
              "      <th>ID</th>\n",
              "      <td>9</td>\n",
              "      <td>13</td>\n",
              "      <td>1</td>\n",
              "    </tr>\n",
              "    <tr>\n",
              "      <th>IL</th>\n",
              "      <td>144</td>\n",
              "      <td>100</td>\n",
              "      <td>3</td>\n",
              "    </tr>\n",
              "    <tr>\n",
              "      <th>IN</th>\n",
              "      <td>58</td>\n",
              "      <td>48</td>\n",
              "      <td>2</td>\n",
              "    </tr>\n",
              "    <tr>\n",
              "      <th>KS</th>\n",
              "      <td>29</td>\n",
              "      <td>18</td>\n",
              "      <td>1</td>\n",
              "    </tr>\n",
              "    <tr>\n",
              "      <th>KY</th>\n",
              "      <td>33</td>\n",
              "      <td>32</td>\n",
              "      <td>2</td>\n",
              "    </tr>\n",
              "    <tr>\n",
              "      <th>LA</th>\n",
              "      <td>27</td>\n",
              "      <td>26</td>\n",
              "      <td>3</td>\n",
              "    </tr>\n",
              "    <tr>\n",
              "      <th>MD</th>\n",
              "      <td>2</td>\n",
              "      <td>2</td>\n",
              "      <td>0</td>\n",
              "    </tr>\n",
              "    <tr>\n",
              "      <th>MI</th>\n",
              "      <td>121</td>\n",
              "      <td>103</td>\n",
              "      <td>1</td>\n",
              "    </tr>\n",
              "    <tr>\n",
              "      <th>MN</th>\n",
              "      <td>43</td>\n",
              "      <td>31</td>\n",
              "      <td>1</td>\n",
              "    </tr>\n",
              "    <tr>\n",
              "      <th>MO</th>\n",
              "      <td>67</td>\n",
              "      <td>40</td>\n",
              "      <td>1</td>\n",
              "    </tr>\n",
              "    <tr>\n",
              "      <th>MS</th>\n",
              "      <td>17</td>\n",
              "      <td>16</td>\n",
              "      <td>0</td>\n",
              "    </tr>\n",
              "    <tr>\n",
              "      <th>MT</th>\n",
              "      <td>18</td>\n",
              "      <td>6</td>\n",
              "      <td>0</td>\n",
              "    </tr>\n",
              "    <tr>\n",
              "      <th>NC</th>\n",
              "      <td>95</td>\n",
              "      <td>68</td>\n",
              "      <td>5</td>\n",
              "    </tr>\n",
              "    <tr>\n",
              "      <th>ND</th>\n",
              "      <td>8</td>\n",
              "      <td>8</td>\n",
              "      <td>0</td>\n",
              "    </tr>\n",
              "    <tr>\n",
              "      <th>NE</th>\n",
              "      <td>21</td>\n",
              "      <td>12</td>\n",
              "      <td>0</td>\n",
              "    </tr>\n",
              "    <tr>\n",
              "      <th>NJ</th>\n",
              "      <td>1</td>\n",
              "      <td>0</td>\n",
              "      <td>1</td>\n",
              "    </tr>\n",
              "    <tr>\n",
              "      <th>NM</th>\n",
              "      <td>26</td>\n",
              "      <td>17</td>\n",
              "      <td>1</td>\n",
              "    </tr>\n",
              "    <tr>\n",
              "      <th>NV</th>\n",
              "      <td>26</td>\n",
              "      <td>20</td>\n",
              "      <td>0</td>\n",
              "    </tr>\n",
              "    <tr>\n",
              "      <th>NY</th>\n",
              "      <td>1</td>\n",
              "      <td>0</td>\n",
              "      <td>0</td>\n",
              "    </tr>\n",
              "    <tr>\n",
              "      <th>OK</th>\n",
              "      <td>35</td>\n",
              "      <td>19</td>\n",
              "      <td>3</td>\n",
              "    </tr>\n",
              "    <tr>\n",
              "      <th>OR</th>\n",
              "      <td>64</td>\n",
              "      <td>53</td>\n",
              "      <td>0</td>\n",
              "    </tr>\n",
              "    <tr>\n",
              "      <th>PA</th>\n",
              "      <td>1</td>\n",
              "      <td>1</td>\n",
              "      <td>0</td>\n",
              "    </tr>\n",
              "    <tr>\n",
              "      <th>SC</th>\n",
              "      <td>49</td>\n",
              "      <td>35</td>\n",
              "      <td>1</td>\n",
              "    </tr>\n",
              "    <tr>\n",
              "      <th>SD</th>\n",
              "      <td>9</td>\n",
              "      <td>11</td>\n",
              "      <td>2</td>\n",
              "    </tr>\n",
              "    <tr>\n",
              "      <th>TN</th>\n",
              "      <td>52</td>\n",
              "      <td>25</td>\n",
              "      <td>4</td>\n",
              "    </tr>\n",
              "    <tr>\n",
              "      <th>TX</th>\n",
              "      <td>158</td>\n",
              "      <td>125</td>\n",
              "      <td>10</td>\n",
              "    </tr>\n",
              "    <tr>\n",
              "      <th>UT</th>\n",
              "      <td>13</td>\n",
              "      <td>8</td>\n",
              "      <td>0</td>\n",
              "    </tr>\n",
              "    <tr>\n",
              "      <th>VA</th>\n",
              "      <td>1</td>\n",
              "      <td>0</td>\n",
              "      <td>0</td>\n",
              "    </tr>\n",
              "    <tr>\n",
              "      <th>VT</th>\n",
              "      <td>0</td>\n",
              "      <td>1</td>\n",
              "      <td>0</td>\n",
              "    </tr>\n",
              "    <tr>\n",
              "      <th>WA</th>\n",
              "      <td>81</td>\n",
              "      <td>67</td>\n",
              "      <td>5</td>\n",
              "    </tr>\n",
              "    <tr>\n",
              "      <th>WI</th>\n",
              "      <td>58</td>\n",
              "      <td>50</td>\n",
              "      <td>2</td>\n",
              "    </tr>\n",
              "    <tr>\n",
              "      <th>WV</th>\n",
              "      <td>1</td>\n",
              "      <td>0</td>\n",
              "      <td>0</td>\n",
              "    </tr>\n",
              "    <tr>\n",
              "      <th>WY</th>\n",
              "      <td>4</td>\n",
              "      <td>8</td>\n",
              "      <td>0</td>\n",
              "    </tr>\n",
              "  </tbody>\n",
              "</table>\n",
              "</div>"
            ],
            "text/plain": [
              "gender  Female  Male   U\n",
              "state                   \n",
              "AA           0     2   0\n",
              "AE           1     0   0\n",
              "AK           1     5   0\n",
              "AL          33    23   3\n",
              "AP           0     3   0\n",
              "AR          28    13   1\n",
              "AZ          63    40   2\n",
              "CA         532   315  28\n",
              "CO          56    31   1\n",
              "CT           1     2   0\n",
              "FL         180   153   4\n",
              "GA          74    45   3\n",
              "GU           0     1   0\n",
              "HI          11     9   1\n",
              "IA          24    20   0\n",
              "ID           9    13   1\n",
              "IL         144   100   3\n",
              "IN          58    48   2\n",
              "KS          29    18   1\n",
              "KY          33    32   2\n",
              "LA          27    26   3\n",
              "MD           2     2   0\n",
              "MI         121   103   1\n",
              "MN          43    31   1\n",
              "MO          67    40   1\n",
              "MS          17    16   0\n",
              "MT          18     6   0\n",
              "NC          95    68   5\n",
              "ND           8     8   0\n",
              "NE          21    12   0\n",
              "NJ           1     0   1\n",
              "NM          26    17   1\n",
              "NV          26    20   0\n",
              "NY           1     0   0\n",
              "OK          35    19   3\n",
              "OR          64    53   0\n",
              "PA           1     1   0\n",
              "SC          49    35   1\n",
              "SD           9    11   2\n",
              "TN          52    25   4\n",
              "TX         158   125  10\n",
              "UT          13     8   0\n",
              "VA           1     0   0\n",
              "VT           0     1   0\n",
              "WA          81    67   5\n",
              "WI          58    50   2\n",
              "WV           1     0   0\n",
              "WY           4     8   0"
            ]
          },
          "metadata": {
            "tags": []
          },
          "execution_count": 49
        }
      ]
    },
    {
      "cell_type": "code",
      "metadata": {
        "colab": {
          "base_uri": "https://localhost:8080/"
        },
        "id": "W-l4tSd2Hqeq",
        "outputId": "5969ce8e-0dd0-4c78-a01b-6f0106131423"
      },
      "source": [
        "[statistic, p_value, dof, arr] = stats.chi2_contingency(crosstab)\r\n",
        "print(\"The p-value is: \",round(p_value,2))"
      ],
      "execution_count": null,
      "outputs": [
        {
          "output_type": "stream",
          "text": [
            "The p-value is:  0.06\n"
          ],
          "name": "stdout"
        }
      ]
    },
    {
      "cell_type": "markdown",
      "metadata": {
        "id": "fK8okpEL9P9Z"
      },
      "source": [
        "As the $\\chi^{2}$ test is assuming that there is **no relationship** between the variables and the `p-value`is above 0.05 we can safely say that there is no relationship between `state` and `gender` **for the sample taken.** "
      ]
    }
  ]
}